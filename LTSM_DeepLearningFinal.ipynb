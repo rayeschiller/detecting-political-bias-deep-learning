{
  "nbformat": 4,
  "nbformat_minor": 0,
  "metadata": {
    "kernelspec": {
      "display_name": "Python 3",
      "language": "python",
      "name": "python3"
    },
    "language_info": {
      "codemirror_mode": {
        "name": "ipython",
        "version": 3
      },
      "file_extension": ".py",
      "mimetype": "text/x-python",
      "name": "python",
      "nbconvert_exporter": "python",
      "pygments_lexer": "ipython3",
      "version": "3.6.10"
    },
    "colab": {
      "name": "LTSM DeepLearningFinal.ipynb",
      "provenance": [],
      "collapsed_sections": [],
      "toc_visible": true,
      "machine_shape": "hm",
      "include_colab_link": true
    },
    "accelerator": "GPU",
    "widgets": {
      "application/vnd.jupyter.widget-state+json": {
        "9c37c1557212447cb7d1604409f755a5": {
          "model_module": "@jupyter-widgets/controls",
          "model_name": "HBoxModel",
          "state": {
            "_view_name": "HBoxView",
            "_dom_classes": [],
            "_model_name": "HBoxModel",
            "_view_module": "@jupyter-widgets/controls",
            "_model_module_version": "1.5.0",
            "_view_count": null,
            "_view_module_version": "1.5.0",
            "box_style": "",
            "layout": "IPY_MODEL_079c059654e94256bc7bcdd85cf6a110",
            "_model_module": "@jupyter-widgets/controls",
            "children": [
              "IPY_MODEL_dbc0fad2d94247ea93ee689d3295c188",
              "IPY_MODEL_15cb502837f54044a13779da1c431b06"
            ]
          }
        },
        "079c059654e94256bc7bcdd85cf6a110": {
          "model_module": "@jupyter-widgets/base",
          "model_name": "LayoutModel",
          "state": {
            "_view_name": "LayoutView",
            "grid_template_rows": null,
            "right": null,
            "justify_content": null,
            "_view_module": "@jupyter-widgets/base",
            "overflow": null,
            "_model_module_version": "1.2.0",
            "_view_count": null,
            "flex_flow": null,
            "width": null,
            "min_width": null,
            "border": null,
            "align_items": null,
            "bottom": null,
            "_model_module": "@jupyter-widgets/base",
            "top": null,
            "grid_column": null,
            "overflow_y": null,
            "overflow_x": null,
            "grid_auto_flow": null,
            "grid_area": null,
            "grid_template_columns": null,
            "flex": null,
            "_model_name": "LayoutModel",
            "justify_items": null,
            "grid_row": null,
            "max_height": null,
            "align_content": null,
            "visibility": null,
            "align_self": null,
            "height": null,
            "min_height": null,
            "padding": null,
            "grid_auto_rows": null,
            "grid_gap": null,
            "max_width": null,
            "order": null,
            "_view_module_version": "1.2.0",
            "grid_template_areas": null,
            "object_position": null,
            "object_fit": null,
            "grid_auto_columns": null,
            "margin": null,
            "display": null,
            "left": null
          }
        },
        "dbc0fad2d94247ea93ee689d3295c188": {
          "model_module": "@jupyter-widgets/controls",
          "model_name": "FloatProgressModel",
          "state": {
            "_view_name": "ProgressView",
            "style": "IPY_MODEL_e15ee055bfdd4e00ba51d131d1acbae1",
            "_dom_classes": [],
            "description": "Downloading: 100%",
            "_model_name": "FloatProgressModel",
            "bar_style": "success",
            "max": 231508,
            "_view_module": "@jupyter-widgets/controls",
            "_model_module_version": "1.5.0",
            "value": 231508,
            "_view_count": null,
            "_view_module_version": "1.5.0",
            "orientation": "horizontal",
            "min": 0,
            "description_tooltip": null,
            "_model_module": "@jupyter-widgets/controls",
            "layout": "IPY_MODEL_48ec3e3fb5ed4cb187a1d2a7b231d1a8"
          }
        },
        "15cb502837f54044a13779da1c431b06": {
          "model_module": "@jupyter-widgets/controls",
          "model_name": "HTMLModel",
          "state": {
            "_view_name": "HTMLView",
            "style": "IPY_MODEL_131beecd284b452097eb93eb357e298e",
            "_dom_classes": [],
            "description": "",
            "_model_name": "HTMLModel",
            "placeholder": "​",
            "_view_module": "@jupyter-widgets/controls",
            "_model_module_version": "1.5.0",
            "value": " 232k/232k [00:00&lt;00:00, 302kB/s]",
            "_view_count": null,
            "_view_module_version": "1.5.0",
            "description_tooltip": null,
            "_model_module": "@jupyter-widgets/controls",
            "layout": "IPY_MODEL_dd5ed875ab3e4b45ac7d5bf8db7b0f79"
          }
        },
        "e15ee055bfdd4e00ba51d131d1acbae1": {
          "model_module": "@jupyter-widgets/controls",
          "model_name": "ProgressStyleModel",
          "state": {
            "_view_name": "StyleView",
            "_model_name": "ProgressStyleModel",
            "description_width": "initial",
            "_view_module": "@jupyter-widgets/base",
            "_model_module_version": "1.5.0",
            "_view_count": null,
            "_view_module_version": "1.2.0",
            "bar_color": null,
            "_model_module": "@jupyter-widgets/controls"
          }
        },
        "48ec3e3fb5ed4cb187a1d2a7b231d1a8": {
          "model_module": "@jupyter-widgets/base",
          "model_name": "LayoutModel",
          "state": {
            "_view_name": "LayoutView",
            "grid_template_rows": null,
            "right": null,
            "justify_content": null,
            "_view_module": "@jupyter-widgets/base",
            "overflow": null,
            "_model_module_version": "1.2.0",
            "_view_count": null,
            "flex_flow": null,
            "width": null,
            "min_width": null,
            "border": null,
            "align_items": null,
            "bottom": null,
            "_model_module": "@jupyter-widgets/base",
            "top": null,
            "grid_column": null,
            "overflow_y": null,
            "overflow_x": null,
            "grid_auto_flow": null,
            "grid_area": null,
            "grid_template_columns": null,
            "flex": null,
            "_model_name": "LayoutModel",
            "justify_items": null,
            "grid_row": null,
            "max_height": null,
            "align_content": null,
            "visibility": null,
            "align_self": null,
            "height": null,
            "min_height": null,
            "padding": null,
            "grid_auto_rows": null,
            "grid_gap": null,
            "max_width": null,
            "order": null,
            "_view_module_version": "1.2.0",
            "grid_template_areas": null,
            "object_position": null,
            "object_fit": null,
            "grid_auto_columns": null,
            "margin": null,
            "display": null,
            "left": null
          }
        },
        "131beecd284b452097eb93eb357e298e": {
          "model_module": "@jupyter-widgets/controls",
          "model_name": "DescriptionStyleModel",
          "state": {
            "_view_name": "StyleView",
            "_model_name": "DescriptionStyleModel",
            "description_width": "",
            "_view_module": "@jupyter-widgets/base",
            "_model_module_version": "1.5.0",
            "_view_count": null,
            "_view_module_version": "1.2.0",
            "_model_module": "@jupyter-widgets/controls"
          }
        },
        "dd5ed875ab3e4b45ac7d5bf8db7b0f79": {
          "model_module": "@jupyter-widgets/base",
          "model_name": "LayoutModel",
          "state": {
            "_view_name": "LayoutView",
            "grid_template_rows": null,
            "right": null,
            "justify_content": null,
            "_view_module": "@jupyter-widgets/base",
            "overflow": null,
            "_model_module_version": "1.2.0",
            "_view_count": null,
            "flex_flow": null,
            "width": null,
            "min_width": null,
            "border": null,
            "align_items": null,
            "bottom": null,
            "_model_module": "@jupyter-widgets/base",
            "top": null,
            "grid_column": null,
            "overflow_y": null,
            "overflow_x": null,
            "grid_auto_flow": null,
            "grid_area": null,
            "grid_template_columns": null,
            "flex": null,
            "_model_name": "LayoutModel",
            "justify_items": null,
            "grid_row": null,
            "max_height": null,
            "align_content": null,
            "visibility": null,
            "align_self": null,
            "height": null,
            "min_height": null,
            "padding": null,
            "grid_auto_rows": null,
            "grid_gap": null,
            "max_width": null,
            "order": null,
            "_view_module_version": "1.2.0",
            "grid_template_areas": null,
            "object_position": null,
            "object_fit": null,
            "grid_auto_columns": null,
            "margin": null,
            "display": null,
            "left": null
          }
        },
        "ddadb9f208994a3c9fbaa16e1023d02f": {
          "model_module": "@jupyter-widgets/controls",
          "model_name": "HBoxModel",
          "state": {
            "_view_name": "HBoxView",
            "_dom_classes": [],
            "_model_name": "HBoxModel",
            "_view_module": "@jupyter-widgets/controls",
            "_model_module_version": "1.5.0",
            "_view_count": null,
            "_view_module_version": "1.5.0",
            "box_style": "",
            "layout": "IPY_MODEL_144372ca8638449d9e101099001aafd8",
            "_model_module": "@jupyter-widgets/controls",
            "children": [
              "IPY_MODEL_ca77020e08254776b81e0e9cd15bf35f",
              "IPY_MODEL_ffbe5969bfb04ab093ed8766a8567bae"
            ]
          }
        },
        "144372ca8638449d9e101099001aafd8": {
          "model_module": "@jupyter-widgets/base",
          "model_name": "LayoutModel",
          "state": {
            "_view_name": "LayoutView",
            "grid_template_rows": null,
            "right": null,
            "justify_content": null,
            "_view_module": "@jupyter-widgets/base",
            "overflow": null,
            "_model_module_version": "1.2.0",
            "_view_count": null,
            "flex_flow": null,
            "width": null,
            "min_width": null,
            "border": null,
            "align_items": null,
            "bottom": null,
            "_model_module": "@jupyter-widgets/base",
            "top": null,
            "grid_column": null,
            "overflow_y": null,
            "overflow_x": null,
            "grid_auto_flow": null,
            "grid_area": null,
            "grid_template_columns": null,
            "flex": null,
            "_model_name": "LayoutModel",
            "justify_items": null,
            "grid_row": null,
            "max_height": null,
            "align_content": null,
            "visibility": null,
            "align_self": null,
            "height": null,
            "min_height": null,
            "padding": null,
            "grid_auto_rows": null,
            "grid_gap": null,
            "max_width": null,
            "order": null,
            "_view_module_version": "1.2.0",
            "grid_template_areas": null,
            "object_position": null,
            "object_fit": null,
            "grid_auto_columns": null,
            "margin": null,
            "display": null,
            "left": null
          }
        },
        "ca77020e08254776b81e0e9cd15bf35f": {
          "model_module": "@jupyter-widgets/controls",
          "model_name": "FloatProgressModel",
          "state": {
            "_view_name": "ProgressView",
            "style": "IPY_MODEL_886a74c09f4a4fefb413f003cac07d3c",
            "_dom_classes": [],
            "description": "Downloading: 100%",
            "_model_name": "FloatProgressModel",
            "bar_style": "success",
            "max": 433,
            "_view_module": "@jupyter-widgets/controls",
            "_model_module_version": "1.5.0",
            "value": 433,
            "_view_count": null,
            "_view_module_version": "1.5.0",
            "orientation": "horizontal",
            "min": 0,
            "description_tooltip": null,
            "_model_module": "@jupyter-widgets/controls",
            "layout": "IPY_MODEL_b5db2c00ead74a1499ee96af39b4ba9d"
          }
        },
        "ffbe5969bfb04ab093ed8766a8567bae": {
          "model_module": "@jupyter-widgets/controls",
          "model_name": "HTMLModel",
          "state": {
            "_view_name": "HTMLView",
            "style": "IPY_MODEL_1baf824fadd34da8bff9dec8d9d244ca",
            "_dom_classes": [],
            "description": "",
            "_model_name": "HTMLModel",
            "placeholder": "​",
            "_view_module": "@jupyter-widgets/controls",
            "_model_module_version": "1.5.0",
            "value": " 433/433 [00:09&lt;00:00, 47.1B/s]",
            "_view_count": null,
            "_view_module_version": "1.5.0",
            "description_tooltip": null,
            "_model_module": "@jupyter-widgets/controls",
            "layout": "IPY_MODEL_20b09cfc292f4f54a50a113720105031"
          }
        },
        "886a74c09f4a4fefb413f003cac07d3c": {
          "model_module": "@jupyter-widgets/controls",
          "model_name": "ProgressStyleModel",
          "state": {
            "_view_name": "StyleView",
            "_model_name": "ProgressStyleModel",
            "description_width": "initial",
            "_view_module": "@jupyter-widgets/base",
            "_model_module_version": "1.5.0",
            "_view_count": null,
            "_view_module_version": "1.2.0",
            "bar_color": null,
            "_model_module": "@jupyter-widgets/controls"
          }
        },
        "b5db2c00ead74a1499ee96af39b4ba9d": {
          "model_module": "@jupyter-widgets/base",
          "model_name": "LayoutModel",
          "state": {
            "_view_name": "LayoutView",
            "grid_template_rows": null,
            "right": null,
            "justify_content": null,
            "_view_module": "@jupyter-widgets/base",
            "overflow": null,
            "_model_module_version": "1.2.0",
            "_view_count": null,
            "flex_flow": null,
            "width": null,
            "min_width": null,
            "border": null,
            "align_items": null,
            "bottom": null,
            "_model_module": "@jupyter-widgets/base",
            "top": null,
            "grid_column": null,
            "overflow_y": null,
            "overflow_x": null,
            "grid_auto_flow": null,
            "grid_area": null,
            "grid_template_columns": null,
            "flex": null,
            "_model_name": "LayoutModel",
            "justify_items": null,
            "grid_row": null,
            "max_height": null,
            "align_content": null,
            "visibility": null,
            "align_self": null,
            "height": null,
            "min_height": null,
            "padding": null,
            "grid_auto_rows": null,
            "grid_gap": null,
            "max_width": null,
            "order": null,
            "_view_module_version": "1.2.0",
            "grid_template_areas": null,
            "object_position": null,
            "object_fit": null,
            "grid_auto_columns": null,
            "margin": null,
            "display": null,
            "left": null
          }
        },
        "1baf824fadd34da8bff9dec8d9d244ca": {
          "model_module": "@jupyter-widgets/controls",
          "model_name": "DescriptionStyleModel",
          "state": {
            "_view_name": "StyleView",
            "_model_name": "DescriptionStyleModel",
            "description_width": "",
            "_view_module": "@jupyter-widgets/base",
            "_model_module_version": "1.5.0",
            "_view_count": null,
            "_view_module_version": "1.2.0",
            "_model_module": "@jupyter-widgets/controls"
          }
        },
        "20b09cfc292f4f54a50a113720105031": {
          "model_module": "@jupyter-widgets/base",
          "model_name": "LayoutModel",
          "state": {
            "_view_name": "LayoutView",
            "grid_template_rows": null,
            "right": null,
            "justify_content": null,
            "_view_module": "@jupyter-widgets/base",
            "overflow": null,
            "_model_module_version": "1.2.0",
            "_view_count": null,
            "flex_flow": null,
            "width": null,
            "min_width": null,
            "border": null,
            "align_items": null,
            "bottom": null,
            "_model_module": "@jupyter-widgets/base",
            "top": null,
            "grid_column": null,
            "overflow_y": null,
            "overflow_x": null,
            "grid_auto_flow": null,
            "grid_area": null,
            "grid_template_columns": null,
            "flex": null,
            "_model_name": "LayoutModel",
            "justify_items": null,
            "grid_row": null,
            "max_height": null,
            "align_content": null,
            "visibility": null,
            "align_self": null,
            "height": null,
            "min_height": null,
            "padding": null,
            "grid_auto_rows": null,
            "grid_gap": null,
            "max_width": null,
            "order": null,
            "_view_module_version": "1.2.0",
            "grid_template_areas": null,
            "object_position": null,
            "object_fit": null,
            "grid_auto_columns": null,
            "margin": null,
            "display": null,
            "left": null
          }
        },
        "ec2ccc5b12144b548188b6bc0c78683a": {
          "model_module": "@jupyter-widgets/controls",
          "model_name": "HBoxModel",
          "state": {
            "_view_name": "HBoxView",
            "_dom_classes": [],
            "_model_name": "HBoxModel",
            "_view_module": "@jupyter-widgets/controls",
            "_model_module_version": "1.5.0",
            "_view_count": null,
            "_view_module_version": "1.5.0",
            "box_style": "",
            "layout": "IPY_MODEL_9508820009684e0db95a0f277fdf6f26",
            "_model_module": "@jupyter-widgets/controls",
            "children": [
              "IPY_MODEL_aef971c71d344673a371b101362d9d0a",
              "IPY_MODEL_c79fcc705ae2421db42a5cdb5bf95f2d"
            ]
          }
        },
        "9508820009684e0db95a0f277fdf6f26": {
          "model_module": "@jupyter-widgets/base",
          "model_name": "LayoutModel",
          "state": {
            "_view_name": "LayoutView",
            "grid_template_rows": null,
            "right": null,
            "justify_content": null,
            "_view_module": "@jupyter-widgets/base",
            "overflow": null,
            "_model_module_version": "1.2.0",
            "_view_count": null,
            "flex_flow": null,
            "width": null,
            "min_width": null,
            "border": null,
            "align_items": null,
            "bottom": null,
            "_model_module": "@jupyter-widgets/base",
            "top": null,
            "grid_column": null,
            "overflow_y": null,
            "overflow_x": null,
            "grid_auto_flow": null,
            "grid_area": null,
            "grid_template_columns": null,
            "flex": null,
            "_model_name": "LayoutModel",
            "justify_items": null,
            "grid_row": null,
            "max_height": null,
            "align_content": null,
            "visibility": null,
            "align_self": null,
            "height": null,
            "min_height": null,
            "padding": null,
            "grid_auto_rows": null,
            "grid_gap": null,
            "max_width": null,
            "order": null,
            "_view_module_version": "1.2.0",
            "grid_template_areas": null,
            "object_position": null,
            "object_fit": null,
            "grid_auto_columns": null,
            "margin": null,
            "display": null,
            "left": null
          }
        },
        "aef971c71d344673a371b101362d9d0a": {
          "model_module": "@jupyter-widgets/controls",
          "model_name": "FloatProgressModel",
          "state": {
            "_view_name": "ProgressView",
            "style": "IPY_MODEL_f91232ed361441c0878a4d56f7c49c94",
            "_dom_classes": [],
            "description": "Downloading: 100%",
            "_model_name": "FloatProgressModel",
            "bar_style": "success",
            "max": 440473133,
            "_view_module": "@jupyter-widgets/controls",
            "_model_module_version": "1.5.0",
            "value": 440473133,
            "_view_count": null,
            "_view_module_version": "1.5.0",
            "orientation": "horizontal",
            "min": 0,
            "description_tooltip": null,
            "_model_module": "@jupyter-widgets/controls",
            "layout": "IPY_MODEL_79d195064a144fa09b99eb0dc91ebea6"
          }
        },
        "c79fcc705ae2421db42a5cdb5bf95f2d": {
          "model_module": "@jupyter-widgets/controls",
          "model_name": "HTMLModel",
          "state": {
            "_view_name": "HTMLView",
            "style": "IPY_MODEL_c3d573ee286940ef9ebd01fc8dbead64",
            "_dom_classes": [],
            "description": "",
            "_model_name": "HTMLModel",
            "placeholder": "​",
            "_view_module": "@jupyter-widgets/controls",
            "_model_module_version": "1.5.0",
            "value": " 440M/440M [00:08&lt;00:00, 50.5MB/s]",
            "_view_count": null,
            "_view_module_version": "1.5.0",
            "description_tooltip": null,
            "_model_module": "@jupyter-widgets/controls",
            "layout": "IPY_MODEL_d9196ef6ba2145a29817188fe5ed35bc"
          }
        },
        "f91232ed361441c0878a4d56f7c49c94": {
          "model_module": "@jupyter-widgets/controls",
          "model_name": "ProgressStyleModel",
          "state": {
            "_view_name": "StyleView",
            "_model_name": "ProgressStyleModel",
            "description_width": "initial",
            "_view_module": "@jupyter-widgets/base",
            "_model_module_version": "1.5.0",
            "_view_count": null,
            "_view_module_version": "1.2.0",
            "bar_color": null,
            "_model_module": "@jupyter-widgets/controls"
          }
        },
        "79d195064a144fa09b99eb0dc91ebea6": {
          "model_module": "@jupyter-widgets/base",
          "model_name": "LayoutModel",
          "state": {
            "_view_name": "LayoutView",
            "grid_template_rows": null,
            "right": null,
            "justify_content": null,
            "_view_module": "@jupyter-widgets/base",
            "overflow": null,
            "_model_module_version": "1.2.0",
            "_view_count": null,
            "flex_flow": null,
            "width": null,
            "min_width": null,
            "border": null,
            "align_items": null,
            "bottom": null,
            "_model_module": "@jupyter-widgets/base",
            "top": null,
            "grid_column": null,
            "overflow_y": null,
            "overflow_x": null,
            "grid_auto_flow": null,
            "grid_area": null,
            "grid_template_columns": null,
            "flex": null,
            "_model_name": "LayoutModel",
            "justify_items": null,
            "grid_row": null,
            "max_height": null,
            "align_content": null,
            "visibility": null,
            "align_self": null,
            "height": null,
            "min_height": null,
            "padding": null,
            "grid_auto_rows": null,
            "grid_gap": null,
            "max_width": null,
            "order": null,
            "_view_module_version": "1.2.0",
            "grid_template_areas": null,
            "object_position": null,
            "object_fit": null,
            "grid_auto_columns": null,
            "margin": null,
            "display": null,
            "left": null
          }
        },
        "c3d573ee286940ef9ebd01fc8dbead64": {
          "model_module": "@jupyter-widgets/controls",
          "model_name": "DescriptionStyleModel",
          "state": {
            "_view_name": "StyleView",
            "_model_name": "DescriptionStyleModel",
            "description_width": "",
            "_view_module": "@jupyter-widgets/base",
            "_model_module_version": "1.5.0",
            "_view_count": null,
            "_view_module_version": "1.2.0",
            "_model_module": "@jupyter-widgets/controls"
          }
        },
        "d9196ef6ba2145a29817188fe5ed35bc": {
          "model_module": "@jupyter-widgets/base",
          "model_name": "LayoutModel",
          "state": {
            "_view_name": "LayoutView",
            "grid_template_rows": null,
            "right": null,
            "justify_content": null,
            "_view_module": "@jupyter-widgets/base",
            "overflow": null,
            "_model_module_version": "1.2.0",
            "_view_count": null,
            "flex_flow": null,
            "width": null,
            "min_width": null,
            "border": null,
            "align_items": null,
            "bottom": null,
            "_model_module": "@jupyter-widgets/base",
            "top": null,
            "grid_column": null,
            "overflow_y": null,
            "overflow_x": null,
            "grid_auto_flow": null,
            "grid_area": null,
            "grid_template_columns": null,
            "flex": null,
            "_model_name": "LayoutModel",
            "justify_items": null,
            "grid_row": null,
            "max_height": null,
            "align_content": null,
            "visibility": null,
            "align_self": null,
            "height": null,
            "min_height": null,
            "padding": null,
            "grid_auto_rows": null,
            "grid_gap": null,
            "max_width": null,
            "order": null,
            "_view_module_version": "1.2.0",
            "grid_template_areas": null,
            "object_position": null,
            "object_fit": null,
            "grid_auto_columns": null,
            "margin": null,
            "display": null,
            "left": null
          }
        }
      }
    }
  },
  "cells": [
    {
      "cell_type": "markdown",
      "metadata": {
        "id": "view-in-github",
        "colab_type": "text"
      },
      "source": [
        "<a href=\"https://colab.research.google.com/github/rinaschiller/detecting-political-bias-deep-learning/blob/master/LTSM_DeepLearningFinal.ipynb\" target=\"_parent\"><img src=\"https://colab.research.google.com/assets/colab-badge.svg\" alt=\"Open In Colab\"/></a>"
      ]
    },
    {
      "cell_type": "code",
      "metadata": {
        "id": "I8P3lkYWLaDu",
        "colab_type": "code",
        "outputId": "cfe81e04-991d-4265-f019-4247f39faf98",
        "colab": {
          "base_uri": "https://localhost:8080/",
          "height": 621
        }
      },
      "source": [
        "!pip install transformers\n",
        "import nltk\n",
        "nltk.download('stopwords')\n",
        "import matplotlib.pyplot as plt"
      ],
      "execution_count": 0,
      "outputs": [
        {
          "output_type": "stream",
          "text": [
            "Collecting transformers\n",
            "\u001b[?25l  Downloading https://files.pythonhosted.org/packages/cd/38/c9527aa055241c66c4d785381eaf6f80a28c224cae97daa1f8b183b5fabb/transformers-2.9.0-py3-none-any.whl (635kB)\n",
            "\u001b[K     |████████████████████████████████| 645kB 2.7MB/s \n",
            "\u001b[?25hCollecting sacremoses\n",
            "\u001b[?25l  Downloading https://files.pythonhosted.org/packages/7d/34/09d19aff26edcc8eb2a01bed8e98f13a1537005d31e95233fd48216eed10/sacremoses-0.0.43.tar.gz (883kB)\n",
            "\u001b[K     |████████████████████████████████| 890kB 12.5MB/s \n",
            "\u001b[?25hCollecting sentencepiece\n",
            "\u001b[?25l  Downloading https://files.pythonhosted.org/packages/98/2c/8df20f3ac6c22ac224fff307ebc102818206c53fc454ecd37d8ac2060df5/sentencepiece-0.1.86-cp36-cp36m-manylinux1_x86_64.whl (1.0MB)\n",
            "\u001b[K     |████████████████████████████████| 1.0MB 15.5MB/s \n",
            "\u001b[?25hRequirement already satisfied: tqdm>=4.27 in /usr/local/lib/python3.6/dist-packages (from transformers) (4.41.1)\n",
            "Requirement already satisfied: numpy in /usr/local/lib/python3.6/dist-packages (from transformers) (1.18.4)\n",
            "Requirement already satisfied: regex!=2019.12.17 in /usr/local/lib/python3.6/dist-packages (from transformers) (2019.12.20)\n",
            "Requirement already satisfied: requests in /usr/local/lib/python3.6/dist-packages (from transformers) (2.23.0)\n",
            "Collecting tokenizers==0.7.0\n",
            "\u001b[?25l  Downloading https://files.pythonhosted.org/packages/14/e5/a26eb4716523808bb0a799fcfdceb6ebf77a18169d9591b2f46a9adb87d9/tokenizers-0.7.0-cp36-cp36m-manylinux1_x86_64.whl (3.8MB)\n",
            "\u001b[K     |████████████████████████████████| 3.8MB 23.9MB/s \n",
            "\u001b[?25hRequirement already satisfied: dataclasses; python_version < \"3.7\" in /usr/local/lib/python3.6/dist-packages (from transformers) (0.7)\n",
            "Requirement already satisfied: filelock in /usr/local/lib/python3.6/dist-packages (from transformers) (3.0.12)\n",
            "Requirement already satisfied: six in /usr/local/lib/python3.6/dist-packages (from sacremoses->transformers) (1.12.0)\n",
            "Requirement already satisfied: click in /usr/local/lib/python3.6/dist-packages (from sacremoses->transformers) (7.1.2)\n",
            "Requirement already satisfied: joblib in /usr/local/lib/python3.6/dist-packages (from sacremoses->transformers) (0.14.1)\n",
            "Requirement already satisfied: chardet<4,>=3.0.2 in /usr/local/lib/python3.6/dist-packages (from requests->transformers) (3.0.4)\n",
            "Requirement already satisfied: idna<3,>=2.5 in /usr/local/lib/python3.6/dist-packages (from requests->transformers) (2.9)\n",
            "Requirement already satisfied: urllib3!=1.25.0,!=1.25.1,<1.26,>=1.21.1 in /usr/local/lib/python3.6/dist-packages (from requests->transformers) (1.24.3)\n",
            "Requirement already satisfied: certifi>=2017.4.17 in /usr/local/lib/python3.6/dist-packages (from requests->transformers) (2020.4.5.1)\n",
            "Building wheels for collected packages: sacremoses\n",
            "  Building wheel for sacremoses (setup.py) ... \u001b[?25l\u001b[?25hdone\n",
            "  Created wheel for sacremoses: filename=sacremoses-0.0.43-cp36-none-any.whl size=893260 sha256=3b69731143474df28898cb7cc766d17cf3b6991fb9882ced81fa682ffd427e98\n",
            "  Stored in directory: /root/.cache/pip/wheels/29/3c/fd/7ce5c3f0666dab31a50123635e6fb5e19ceb42ce38d4e58f45\n",
            "Successfully built sacremoses\n",
            "Installing collected packages: sacremoses, sentencepiece, tokenizers, transformers\n",
            "Successfully installed sacremoses-0.0.43 sentencepiece-0.1.86 tokenizers-0.7.0 transformers-2.9.0\n",
            "[nltk_data] Downloading package stopwords to /root/nltk_data...\n",
            "[nltk_data]   Unzipping corpora/stopwords.zip.\n"
          ],
          "name": "stdout"
        }
      ]
    },
    {
      "cell_type": "code",
      "metadata": {
        "id": "2Uc_XQFNH9rf",
        "colab_type": "code",
        "outputId": "6f81047b-bf1e-41a6-add1-c18d252788d6",
        "colab": {
          "base_uri": "https://localhost:8080/",
          "height": 166,
          "referenced_widgets": [
            "9c37c1557212447cb7d1604409f755a5",
            "079c059654e94256bc7bcdd85cf6a110",
            "dbc0fad2d94247ea93ee689d3295c188",
            "15cb502837f54044a13779da1c431b06",
            "e15ee055bfdd4e00ba51d131d1acbae1",
            "48ec3e3fb5ed4cb187a1d2a7b231d1a8",
            "131beecd284b452097eb93eb357e298e",
            "dd5ed875ab3e4b45ac7d5bf8db7b0f79",
            "ddadb9f208994a3c9fbaa16e1023d02f",
            "144372ca8638449d9e101099001aafd8",
            "ca77020e08254776b81e0e9cd15bf35f",
            "ffbe5969bfb04ab093ed8766a8567bae",
            "886a74c09f4a4fefb413f003cac07d3c",
            "b5db2c00ead74a1499ee96af39b4ba9d",
            "1baf824fadd34da8bff9dec8d9d244ca",
            "20b09cfc292f4f54a50a113720105031",
            "ec2ccc5b12144b548188b6bc0c78683a",
            "9508820009684e0db95a0f277fdf6f26",
            "aef971c71d344673a371b101362d9d0a",
            "c79fcc705ae2421db42a5cdb5bf95f2d",
            "f91232ed361441c0878a4d56f7c49c94",
            "79d195064a144fa09b99eb0dc91ebea6",
            "c3d573ee286940ef9ebd01fc8dbead64",
            "d9196ef6ba2145a29817188fe5ed35bc"
          ]
        }
      },
      "source": [
        "import numpy as np\n",
        "import pandas as pd\n",
        "import string\n",
        "import itertools\n",
        "from scipy import misc\n",
        "\n",
        "import torch \n",
        "from torch.utils import data\n",
        "from torch import nn\n",
        "from torch.autograd import Variable\n",
        "from transformers import BertTokenizer, BertModel\n",
        "from sklearn.model_selection import train_test_split\n",
        "from collections import defaultdict\n",
        "from nltk.corpus import stopwords\n",
        "\n",
        "import json\n",
        "import sys\n",
        "import io\n",
        "\n",
        "tokenizer = BertTokenizer.from_pretrained('bert-base-uncased', do_lower_case=True)\n",
        "bert_model = BertModel.from_pretrained('bert-base-uncased')\n",
        "#bert_model = torch.hub.load('huggingface/pytorch-transformers', 'model', 'bert-base-uncased')\n",
        "\n",
        "stop_words = set(stopwords.words('english'))\n",
        "stop_words |= set(['', '``', '-', '--'])"
      ],
      "execution_count": 0,
      "outputs": [
        {
          "output_type": "display_data",
          "data": {
            "application/vnd.jupyter.widget-view+json": {
              "model_id": "9c37c1557212447cb7d1604409f755a5",
              "version_minor": 0,
              "version_major": 2
            },
            "text/plain": [
              "HBox(children=(FloatProgress(value=0.0, description='Downloading', max=231508.0, style=ProgressStyle(descripti…"
            ]
          },
          "metadata": {
            "tags": []
          }
        },
        {
          "output_type": "stream",
          "text": [
            "\n"
          ],
          "name": "stdout"
        },
        {
          "output_type": "display_data",
          "data": {
            "application/vnd.jupyter.widget-view+json": {
              "model_id": "ddadb9f208994a3c9fbaa16e1023d02f",
              "version_minor": 0,
              "version_major": 2
            },
            "text/plain": [
              "HBox(children=(FloatProgress(value=0.0, description='Downloading', max=433.0, style=ProgressStyle(description_…"
            ]
          },
          "metadata": {
            "tags": []
          }
        },
        {
          "output_type": "stream",
          "text": [
            "\n"
          ],
          "name": "stdout"
        },
        {
          "output_type": "display_data",
          "data": {
            "application/vnd.jupyter.widget-view+json": {
              "model_id": "ec2ccc5b12144b548188b6bc0c78683a",
              "version_minor": 0,
              "version_major": 2
            },
            "text/plain": [
              "HBox(children=(FloatProgress(value=0.0, description='Downloading', max=440473133.0, style=ProgressStyle(descri…"
            ]
          },
          "metadata": {
            "tags": []
          }
        },
        {
          "output_type": "stream",
          "text": [
            "\n"
          ],
          "name": "stdout"
        }
      ]
    },
    {
      "cell_type": "code",
      "metadata": {
        "id": "Zpi68bOKH9rl",
        "colab_type": "code",
        "colab": {}
      },
      "source": [
        "#add directory\n",
        "# baseDir = \"drive/My Drive/sem2/DeepLearning/\"\n",
        "baseDir = \"drive/My Drive/DL Project/Data/convote_data/stripped/\"\n",
        "dataDir = \"\"\n",
        "\n",
        "dem = 0\n",
        "rep = 1\n",
        "\n",
        "#number of sentences for each speech. Pad or trim if necessary\n",
        "MAX_SENT = 10\n",
        "\n",
        "UNK = '<UNK>'\n",
        "PAD = '<PAD>'"
      ],
      "execution_count": 0,
      "outputs": []
    },
    {
      "cell_type": "code",
      "metadata": {
        "id": "8bWLGztdW0qv",
        "colab_type": "code",
        "outputId": "dc55d1bf-dc82-49af-f633-bf95ac36dfbd",
        "colab": {
          "base_uri": "https://localhost:8080/",
          "height": 34
        }
      },
      "source": [
        "%ls drive/"
      ],
      "execution_count": 0,
      "outputs": [
        {
          "output_type": "stream",
          "text": [
            "ls: cannot access 'drive/': No such file or directory\n"
          ],
          "name": "stdout"
        }
      ]
    },
    {
      "cell_type": "code",
      "metadata": {
        "id": "DllIOp5V73kk",
        "colab_type": "code",
        "outputId": "8bbf4a5f-6f60-438a-d418-5cea3c3ceb26",
        "colab": {
          "base_uri": "https://localhost:8080/",
          "height": 125
        }
      },
      "source": [
        "from google.colab import drive\n",
        "drive.mount('/content/drive', force_remount=True)"
      ],
      "execution_count": 0,
      "outputs": [
        {
          "output_type": "stream",
          "text": [
            "Go to this URL in a browser: https://accounts.google.com/o/oauth2/auth?client_id=947318989803-6bn6qk8qdgf4n4g3pfee6491hc0brc4i.apps.googleusercontent.com&redirect_uri=urn%3aietf%3awg%3aoauth%3a2.0%3aoob&response_type=code&scope=email%20https%3a%2f%2fwww.googleapis.com%2fauth%2fdocs.test%20https%3a%2f%2fwww.googleapis.com%2fauth%2fdrive%20https%3a%2f%2fwww.googleapis.com%2fauth%2fdrive.photos.readonly%20https%3a%2f%2fwww.googleapis.com%2fauth%2fpeopleapi.readonly\n",
            "\n",
            "Enter your authorization code:\n",
            "··········\n",
            "Mounted at /content/drive\n"
          ],
          "name": "stdout"
        }
      ]
    },
    {
      "cell_type": "code",
      "metadata": {
        "id": "QLCOKR04Q40j",
        "colab_type": "code",
        "colab": {}
      },
      "source": [
        "def load_csv(path, train=False, ypath=None):\n",
        "    data = pd.read_csv(path, names=['text', 'party'])\n",
        "    xs, ys = data['text'], data['party']\n",
        "\n",
        "    return xs, ys\n",
        "\n",
        "def max_speech_len(speeches):\n",
        "  return max([len(sent) for pp in speeches for sent in pp])\n",
        "\n",
        "# Don't lemmatize because bert uses its own tokenization approach\n",
        "#\n",
        "# Speeches are too long for bert to handle, so we break each one down\n",
        "# into an array of sentences\n",
        "def clean(df):\n",
        "    df = df.str.split(' ')\n",
        "    # for i, row in enumerate(df, 0):\n",
        "    #     df[i] = [w for w in row if w not in stop_words]\n",
        "\n",
        "    for i, row in enumerate(df, 0):\n",
        "        para_arr, sent_arr = [], []\n",
        "        for w in row:\n",
        "            if w in ['.', '?', '!']:\n",
        "                sent_arr.append(w)\n",
        "                para_arr.append(sent_arr),\n",
        "                sent_arr = []\n",
        "            else:\n",
        "                sent_arr.append(w)\n",
        "        df[i] = para_arr\n",
        "\n",
        "    return df\n",
        "\n",
        "# tokenize the dataset. encode_plus pads the data to length 512 and adds a masking list\n",
        "# as well as an attention list, but it seems like those are actually only necesary for\n",
        "# using Bert as a model. We're just using it as a feature extractor, so we only need the\n",
        "# encodings.\n",
        "def bert_tokenize(speeches, labels):\n",
        "    dataset, newlabels = [], []\n",
        "    for i, speech in enumerate(speeches, 0):\n",
        "        pp = []\n",
        "        for sent in speech:\n",
        "            sent = tokenizer.encode(\n",
        "                        sent,\n",
        "                        #max_length=512,\n",
        "                        add_special_tokens=True,\n",
        "                        #pad_to_max_length=True\n",
        "                    )\n",
        "            pp.append(torch.tensor(sent).unsqueeze(0))\n",
        "        # exclude speeches that end up with no content at all from removal of stopwords/punctuations\n",
        "        if len(pp) > 0:\n",
        "            # pad and trim speeches so that each one has MAX_SENT sentences.\n",
        "            # a pad sentence is just the start token (101) and the end token (102) with no content.\n",
        "            if len(pp) < MAX_SENT:\n",
        "                pad = [torch.tensor([101, 102]).unsqueeze(0)] * (MAX_SENT - len(pp))\n",
        "                pp = pad + pp\n",
        "            dataset.append(pp[:MAX_SENT])\n",
        "            newlabels.append(1 if labels[i] == 'R' else 0)\n",
        "    return dataset, newlabels\n",
        "\n",
        "\n",
        "class BertifiedDataSet(data.Dataset):\n",
        "    def __init__(self, xs, ys, model):\n",
        "        self.xs = xs\n",
        "        self.ys = ys\n",
        "        self.model = model\n",
        "        self.data_len = len(self.ys)\n",
        "\n",
        "    # Each item in the bert output is going to be a tuple, where the first\n",
        "    # element is the bert representation for every word in a sentence, and the second\n",
        "    # is the final bert representation for the entire sentence\n",
        "    def __getitem__(self, idx):\n",
        "        with torch.set_grad_enabled(False):\n",
        "            # Get BERT outputs for each sentence in the speech\n",
        "            sentences = [self.model(sent.cuda()) for sent in self.xs[idx]]\n",
        "            label = torch.tensor(self.ys[idx]).cuda()\n",
        "\n",
        "            # Get the hidden state for each sentence, making a MAX_LEN x 1 x 768 tensor\n",
        "            seq = torch.stack([hidden for full, hidden in sentences]).cuda()\n",
        "\n",
        "\n",
        "            return seq, label\n",
        "\n",
        "    def __len__(self):\n",
        "        return self.data_len"
      ],
      "execution_count": 0,
      "outputs": []
    },
    {
      "cell_type": "code",
      "metadata": {
        "id": "NUAb9bnw6TMq",
        "colab_type": "code",
        "outputId": "cfcd3c5b-9e3f-4989-c03d-da5fbc77ec74",
        "colab": {
          "base_uri": "https://localhost:8080/",
          "height": 34
        }
      },
      "source": [
        "# Load the training data from csv\n",
        "# TODO: Get filename from whereever its stored in drive\n",
        "xtrain, ytrain = load_csv(baseDir + 'training_set_strip.csv')\n",
        "xdev, ydev = load_csv(baseDir + 'development_set_strip.csv')\n",
        "xtest, ytest = load_csv(baseDir + 'test_set_strip.csv')\n",
        "\n",
        "# Reduce the dataset by separating tokens, removing stopwords, and splitting\n",
        "# speeches into sentences.\n",
        "xtrain = clean(xtrain)\n",
        "xdev = clean(xdev)\n",
        "xtest = clean(xtest)\n",
        "\n",
        "# Convert 2d array of tokens to a 2d array of bert encodings (which are vocab indexes)\n",
        "xtokens, ytrain = bert_tokenize(xtrain, ytrain)\n",
        "xdevtokens, ydev = bert_tokenize(xdev, ydev)"
      ],
      "execution_count": 0,
      "outputs": [
        {
          "output_type": "stream",
          "text": [
            "Token indices sequence length is longer than the specified maximum sequence length for this model (575 > 512). Running this sequence through the model will result in indexing errors\n"
          ],
          "name": "stderr"
        }
      ]
    },
    {
      "cell_type": "code",
      "metadata": {
        "id": "3Y3xbc1t0yDq",
        "colab_type": "code",
        "outputId": "736c973b-94b5-410a-c4ff-d9115c837e5d",
        "colab": {
          "base_uri": "https://localhost:8080/",
          "height": 34
        }
      },
      "source": [
        "use_cuda = True\n",
        "if use_cuda and torch.cuda.is_available():\n",
        "    print('using CUDA')\n",
        "    bert_model.cuda()\n",
        "\n",
        "bert_model.eval()\n",
        "dataset = BertifiedDataSet(xtokens, ytrain, bert_model)\n",
        "dev_dataset = BertifiedDataSet(xdevtokens, ydev, bert_model)\n",
        "data_loader = data.DataLoader(dataset, batch_size=512, shuffle=True)\n",
        "dev_loader = data.DataLoader(dev_dataset, batch_size=512, shuffle=True)\n",
        "test_loader = data.DataLoader(test_dataset, batch_size=512, shuffle=True)"
      ],
      "execution_count": 0,
      "outputs": [
        {
          "output_type": "stream",
          "text": [
            "using CUDA\n"
          ],
          "name": "stdout"
        }
      ]
    },
    {
      "cell_type": "code",
      "metadata": {
        "id": "aPJXWdSGXqtI",
        "colab_type": "code",
        "outputId": "521a2c4c-70f0-4811-9083-dc3ccfa3b6f6",
        "colab": {
          "base_uri": "https://localhost:8080/",
          "height": 52
        }
      },
      "source": [
        "print(len(dataset.xs), len(dataset.ys))\n",
        "print(len(dev_dataset.xs), len(dev_dataset.ys))"
      ],
      "execution_count": 0,
      "outputs": [
        {
          "output_type": "stream",
          "text": [
            "2735 2735\n",
            "257 257\n"
          ],
          "name": "stdout"
        }
      ]
    },
    {
      "cell_type": "markdown",
      "metadata": {
        "id": "YOC6bESQedhQ",
        "colab_type": "text"
      },
      "source": [
        "# LSTM"
      ]
    },
    {
      "cell_type": "code",
      "metadata": {
        "id": "wYRGKbhyH9sV",
        "colab_type": "code",
        "colab": {}
      },
      "source": [
        "# ----- This class is built to work with our data -----\n",
        " class LSTM(nn.Module):    \n",
        "    def __init__(self, dim, h_dim, layers):\n",
        "        super(LSTM, self).__init__()\n",
        "        \n",
        "        self.layers = layers\n",
        "        self.h_dim = h_dim\n",
        "        self.dim = dim\n",
        "        \n",
        "        self.lstm = nn.LSTM(dim, h_dim, self.layers, batch_first=True)\n",
        "        self.fc = nn.Linear(h_dim*MAX_SENT, 1)\n",
        "        self.sigmoid = nn.Sigmoid()\n",
        "        \n",
        "        self.fc.weight = nn.init.xavier_normal_(self.fc.weight, gain = 1.0)\n",
        "        self.hidden = self.init_hidden()\n",
        "        self._init_weights()\n",
        "\n",
        "    def _init_weights(self):\n",
        "        for name, param in self.named_parameters():\n",
        "            if \"weight_hh\" in name:\n",
        "                nn.init.orthogonal_(param.data)\n",
        "            elif \"weight_ih\" in name:\n",
        "                nn.init.xavier_uniform_(param.data)\n",
        "    \n",
        "    def forward(self, xs):\n",
        "        xs, self.hidden = self.lstm(xs.view(xs.shape[0], xs.shape[1], -1))\n",
        "        xs = xs.reshape(xs.shape[0], xs.shape[1]*xs.shape[2]) \n",
        "\n",
        "        xs = self.fc(xs)\n",
        "\n",
        "        xs = self.sigmoid(xs)\n",
        "        return xs\n",
        "    \n",
        "    def init_hidden(self):\n",
        "        return (torch.zeros(1, 1, self.h_dim),\n",
        "                torch.zeros(1, 1, self.h_dim))\n",
        "    \n",
        "\n"
      ],
      "execution_count": 0,
      "outputs": []
    },
    {
      "cell_type": "code",
      "metadata": {
        "id": "oi55pDEnH9sX",
        "colab_type": "code",
        "colab": {}
      },
      "source": [
        "# ------- This is the training fn I've been using -------\n",
        "def train_final(epochs, loader, lssfn, opt):    \n",
        "    lossList = []\n",
        "    for e in range(epochs):\n",
        "        l = 0\n",
        "        print(\"epoch: {}\".format(e))\n",
        "        for speeches, labels in loader:\n",
        "            opt.zero_grad()\n",
        "            #lstm.hidden = lstm.init_hidden()\n",
        "            \n",
        "            preds = lstm(speeches)\n",
        "            loss = lssfn(preds, labels.float())\n",
        "            \n",
        "            loss.backward()\n",
        "            opt.step()\n",
        "            \n",
        "            l += loss.item()\n",
        "        \n",
        "        lossList.append(l/len(labels))\n",
        "            \n",
        "        right = 0\n",
        "        count = 0\n",
        "        for devSpeeches, devLabel in dev_loader:\n",
        "            devOutputs = lstm(devSpeeches)\n",
        "            devPred = (devOutputs > 0.5).reshape(devOutputs.shape[0]).long()\n",
        "            count+= devLabel.size(0)\n",
        "            right+= (devPred == devLabel).sum().item()\n",
        "        accuracy = (right*100)/count\n",
        "        print(\"Iteration: {}. Loss: {}% Accuracy = {}.\".format(e, l, accuracy))\n",
        "        \n",
        "    return lossList"
      ],
      "execution_count": 0,
      "outputs": []
    },
    {
      "cell_type": "code",
      "metadata": {
        "id": "CO2CbZRrIQW_",
        "colab_type": "code",
        "colab": {}
      },
      "source": [
        "dim = 768\n",
        "h_dim = 5\n",
        "layers = 5\n",
        "tag_size = 1\n",
        "    \n",
        "# rnn = RNN(len(vocabToId), dim, batch_size, h_dim, layers, tag_size, weights) \n",
        "lstm = LSTM(dim, h_dim, layers).cuda()\n",
        "loss_function = torch.nn.BCELoss() "
      ],
      "execution_count": 0,
      "outputs": []
    },
    {
      "cell_type": "code",
      "metadata": {
        "id": "MZ_PNkWKyckS",
        "colab_type": "code",
        "outputId": "0635052f-3af9-4646-8c6b-ad7e034fa76f",
        "colab": {
          "base_uri": "https://localhost:8080/",
          "height": 818
        }
      },
      "source": [
        "lr_rate = 0.001\n",
        "epochs = 20\n",
        "\n",
        "optimizer = torch.optim.Adam(lstm.parameters(), lr = lr_rate)\n",
        "lossList = train_final(epochs, data_loader, loss_function, optimizer)"
      ],
      "execution_count": 0,
      "outputs": [
        {
          "output_type": "stream",
          "text": [
            "epoch: 0\n"
          ],
          "name": "stdout"
        },
        {
          "output_type": "stream",
          "text": [
            "/usr/local/lib/python3.6/dist-packages/torch/nn/modules/loss.py:516: UserWarning: Using a target size (torch.Size([512])) that is different to the input size (torch.Size([512, 1])) is deprecated. Please ensure they have the same size.\n",
            "  return F.binary_cross_entropy(input, target, weight=self.weight, reduction=self.reduction)\n",
            "/usr/local/lib/python3.6/dist-packages/torch/nn/modules/loss.py:516: UserWarning: Using a target size (torch.Size([175])) that is different to the input size (torch.Size([175, 1])) is deprecated. Please ensure they have the same size.\n",
            "  return F.binary_cross_entropy(input, target, weight=self.weight, reduction=self.reduction)\n"
          ],
          "name": "stderr"
        },
        {
          "output_type": "stream",
          "text": [
            "Iteration: 0. Loss: 4.161393940448761% Accuracy = 50.583657587548636.\n",
            "epoch: 1\n",
            "Iteration: 1. Loss: 4.159092545509338% Accuracy = 49.416342412451364.\n",
            "epoch: 2\n",
            "Iteration: 2. Loss: 4.159061133861542% Accuracy = 49.416342412451364.\n",
            "epoch: 3\n",
            "Iteration: 3. Loss: 4.159998953342438% Accuracy = 49.416342412451364.\n",
            "epoch: 4\n",
            "Iteration: 4. Loss: 4.159116566181183% Accuracy = 49.416342412451364.\n",
            "epoch: 5\n",
            "Iteration: 5. Loss: 4.160208880901337% Accuracy = 50.583657587548636.\n",
            "epoch: 6\n",
            "Iteration: 6. Loss: 4.159566879272461% Accuracy = 50.583657587548636.\n",
            "epoch: 7\n",
            "Iteration: 7. Loss: 4.159328281879425% Accuracy = 50.583657587548636.\n",
            "epoch: 8\n",
            "Iteration: 8. Loss: 4.158901691436768% Accuracy = 50.583657587548636.\n",
            "epoch: 9\n",
            "Iteration: 9. Loss: 4.158938646316528% Accuracy = 50.583657587548636.\n",
            "epoch: 10\n",
            "Iteration: 10. Loss: 4.158919930458069% Accuracy = 49.416342412451364.\n",
            "epoch: 11\n",
            "Iteration: 11. Loss: 4.158912658691406% Accuracy = 49.416342412451364.\n",
            "epoch: 12\n",
            "Iteration: 12. Loss: 4.159019351005554% Accuracy = 50.583657587548636.\n",
            "epoch: 13\n",
            "Iteration: 13. Loss: 4.159098446369171% Accuracy = 50.583657587548636.\n",
            "epoch: 14\n",
            "Iteration: 14. Loss: 4.15901118516922% Accuracy = 50.583657587548636.\n",
            "epoch: 15\n",
            "Iteration: 15. Loss: 4.158870577812195% Accuracy = 50.583657587548636.\n",
            "epoch: 16\n",
            "Iteration: 16. Loss: 4.158984541893005% Accuracy = 49.416342412451364.\n",
            "epoch: 17\n",
            "Iteration: 17. Loss: 4.158958375453949% Accuracy = 50.583657587548636.\n",
            "epoch: 18\n",
            "Iteration: 18. Loss: 4.159145832061768% Accuracy = 50.583657587548636.\n",
            "epoch: 19\n",
            "Iteration: 19. Loss: 4.1588258147239685% Accuracy = 50.583657587548636.\n"
          ],
          "name": "stdout"
        }
      ]
    },
    {
      "cell_type": "code",
      "metadata": {
        "id": "gr9HOtws3pNl",
        "colab_type": "code",
        "outputId": "f70730cb-3b09-4eca-ea81-142686c47c1b",
        "colab": {
          "base_uri": "https://localhost:8080/",
          "height": 285
        }
      },
      "source": [
        "plt.plot(lossList)"
      ],
      "execution_count": 0,
      "outputs": [
        {
          "output_type": "execute_result",
          "data": {
            "text/plain": [
              "[<matplotlib.lines.Line2D at 0x7f559a227710>]"
            ]
          },
          "metadata": {
            "tags": []
          },
          "execution_count": 23
        },
        {
          "output_type": "display_data",
          "data": {
            "image/png": "[encoded data removed]",
            "text/plain": [
              "<Figure size 432x288 with 1 Axes>"
            ]
          },
          "metadata": {
            "tags": [],
            "needs_background": "light"
          }
        }
      ]
    },
    {
      "cell_type": "code",
      "metadata": {
        "id": "Ne-Qsli3h4-g",
        "colab_type": "code",
        "outputId": "a2d53a60-af63-413d-cd98-e023b612d79f",
        "colab": {
          "base_uri": "https://localhost:8080/",
          "height": 353
        }
      },
      "source": [
        "def accuracy_score(y_true, y_pred):\n",
        "    y_pred = np.concatenate(tuple(y_pred))\n",
        "    y_true = np.concatenate(tuple([[t for t in y] for y in y_true])).reshape(y_pred.shape)\n",
        "    return (y_true == y_pred).sum() / float(len(y_true))\n",
        "\n",
        "outputs = lstm(xtest)"
      ],
      "execution_count": 0,
      "outputs": [
        {
          "output_type": "error",
          "ename": "IndexError",
          "evalue": "ignored",
          "traceback": [
            "\u001b[0;31m---------------------------------------------------------------------------\u001b[0m",
            "\u001b[0;31mIndexError\u001b[0m                                Traceback (most recent call last)",
            "\u001b[0;32m<ipython-input-22-2c55696377a3>\u001b[0m in \u001b[0;36m<module>\u001b[0;34m()\u001b[0m\n\u001b[1;32m      4\u001b[0m     \u001b[0;32mreturn\u001b[0m \u001b[0;34m(\u001b[0m\u001b[0my_true\u001b[0m \u001b[0;34m==\u001b[0m \u001b[0my_pred\u001b[0m\u001b[0;34m)\u001b[0m\u001b[0;34m.\u001b[0m\u001b[0msum\u001b[0m\u001b[0;34m(\u001b[0m\u001b[0;34m)\u001b[0m \u001b[0;34m/\u001b[0m \u001b[0mfloat\u001b[0m\u001b[0;34m(\u001b[0m\u001b[0mlen\u001b[0m\u001b[0;34m(\u001b[0m\u001b[0my_true\u001b[0m\u001b[0;34m)\u001b[0m\u001b[0;34m)\u001b[0m\u001b[0;34m\u001b[0m\u001b[0;34m\u001b[0m\u001b[0m\n\u001b[1;32m      5\u001b[0m \u001b[0;34m\u001b[0m\u001b[0m\n\u001b[0;32m----> 6\u001b[0;31m \u001b[0moutputs\u001b[0m \u001b[0;34m=\u001b[0m \u001b[0mlstm\u001b[0m\u001b[0;34m(\u001b[0m\u001b[0mxtest\u001b[0m\u001b[0;34m)\u001b[0m\u001b[0;34m\u001b[0m\u001b[0;34m\u001b[0m\u001b[0m\n\u001b[0m",
            "\u001b[0;32m/usr/local/lib/python3.6/dist-packages/torch/nn/modules/module.py\u001b[0m in \u001b[0;36m__call__\u001b[0;34m(self, *input, **kwargs)\u001b[0m\n\u001b[1;32m    548\u001b[0m             \u001b[0mresult\u001b[0m \u001b[0;34m=\u001b[0m \u001b[0mself\u001b[0m\u001b[0;34m.\u001b[0m\u001b[0m_slow_forward\u001b[0m\u001b[0;34m(\u001b[0m\u001b[0;34m*\u001b[0m\u001b[0minput\u001b[0m\u001b[0;34m,\u001b[0m \u001b[0;34m**\u001b[0m\u001b[0mkwargs\u001b[0m\u001b[0;34m)\u001b[0m\u001b[0;34m\u001b[0m\u001b[0;34m\u001b[0m\u001b[0m\n\u001b[1;32m    549\u001b[0m         \u001b[0;32melse\u001b[0m\u001b[0;34m:\u001b[0m\u001b[0;34m\u001b[0m\u001b[0;34m\u001b[0m\u001b[0m\n\u001b[0;32m--> 550\u001b[0;31m             \u001b[0mresult\u001b[0m \u001b[0;34m=\u001b[0m \u001b[0mself\u001b[0m\u001b[0;34m.\u001b[0m\u001b[0mforward\u001b[0m\u001b[0;34m(\u001b[0m\u001b[0;34m*\u001b[0m\u001b[0minput\u001b[0m\u001b[0;34m,\u001b[0m \u001b[0;34m**\u001b[0m\u001b[0mkwargs\u001b[0m\u001b[0;34m)\u001b[0m\u001b[0;34m\u001b[0m\u001b[0;34m\u001b[0m\u001b[0m\n\u001b[0m\u001b[1;32m    551\u001b[0m         \u001b[0;32mfor\u001b[0m \u001b[0mhook\u001b[0m \u001b[0;32min\u001b[0m \u001b[0mself\u001b[0m\u001b[0;34m.\u001b[0m\u001b[0m_forward_hooks\u001b[0m\u001b[0;34m.\u001b[0m\u001b[0mvalues\u001b[0m\u001b[0;34m(\u001b[0m\u001b[0;34m)\u001b[0m\u001b[0;34m:\u001b[0m\u001b[0;34m\u001b[0m\u001b[0;34m\u001b[0m\u001b[0m\n\u001b[1;32m    552\u001b[0m             \u001b[0mhook_result\u001b[0m \u001b[0;34m=\u001b[0m \u001b[0mhook\u001b[0m\u001b[0;34m(\u001b[0m\u001b[0mself\u001b[0m\u001b[0;34m,\u001b[0m \u001b[0minput\u001b[0m\u001b[0;34m,\u001b[0m \u001b[0mresult\u001b[0m\u001b[0;34m)\u001b[0m\u001b[0;34m\u001b[0m\u001b[0;34m\u001b[0m\u001b[0m\n",
            "\u001b[0;32m<ipython-input-16-16e0a6ed4fc8>\u001b[0m in \u001b[0;36mforward\u001b[0;34m(self, xs)\u001b[0m\n\u001b[1;32m     23\u001b[0m \u001b[0;34m\u001b[0m\u001b[0m\n\u001b[1;32m     24\u001b[0m    \u001b[0;32mdef\u001b[0m \u001b[0mforward\u001b[0m\u001b[0;34m(\u001b[0m\u001b[0mself\u001b[0m\u001b[0;34m,\u001b[0m \u001b[0mxs\u001b[0m\u001b[0;34m)\u001b[0m\u001b[0;34m:\u001b[0m\u001b[0;34m\u001b[0m\u001b[0;34m\u001b[0m\u001b[0m\n\u001b[0;32m---> 25\u001b[0;31m        \u001b[0mxs\u001b[0m\u001b[0;34m,\u001b[0m \u001b[0mself\u001b[0m\u001b[0;34m.\u001b[0m\u001b[0mhidden\u001b[0m \u001b[0;34m=\u001b[0m \u001b[0mself\u001b[0m\u001b[0;34m.\u001b[0m\u001b[0mlstm\u001b[0m\u001b[0;34m(\u001b[0m\u001b[0mxs\u001b[0m\u001b[0;34m.\u001b[0m\u001b[0mview\u001b[0m\u001b[0;34m(\u001b[0m\u001b[0mxs\u001b[0m\u001b[0;34m.\u001b[0m\u001b[0mshape\u001b[0m\u001b[0;34m[\u001b[0m\u001b[0;36m0\u001b[0m\u001b[0;34m]\u001b[0m\u001b[0;34m,\u001b[0m \u001b[0mxs\u001b[0m\u001b[0;34m.\u001b[0m\u001b[0mshape\u001b[0m\u001b[0;34m[\u001b[0m\u001b[0;36m1\u001b[0m\u001b[0;34m]\u001b[0m\u001b[0;34m,\u001b[0m \u001b[0;34m-\u001b[0m\u001b[0;36m1\u001b[0m\u001b[0;34m)\u001b[0m\u001b[0;34m)\u001b[0m\u001b[0;34m\u001b[0m\u001b[0;34m\u001b[0m\u001b[0m\n\u001b[0m\u001b[1;32m     26\u001b[0m        \u001b[0mxs\u001b[0m \u001b[0;34m=\u001b[0m \u001b[0mxs\u001b[0m\u001b[0;34m.\u001b[0m\u001b[0mreshape\u001b[0m\u001b[0;34m(\u001b[0m\u001b[0mxs\u001b[0m\u001b[0;34m.\u001b[0m\u001b[0mshape\u001b[0m\u001b[0;34m[\u001b[0m\u001b[0;36m0\u001b[0m\u001b[0;34m]\u001b[0m\u001b[0;34m,\u001b[0m \u001b[0mxs\u001b[0m\u001b[0;34m.\u001b[0m\u001b[0mshape\u001b[0m\u001b[0;34m[\u001b[0m\u001b[0;36m1\u001b[0m\u001b[0;34m]\u001b[0m\u001b[0;34m*\u001b[0m\u001b[0mxs\u001b[0m\u001b[0;34m.\u001b[0m\u001b[0mshape\u001b[0m\u001b[0;34m[\u001b[0m\u001b[0;36m2\u001b[0m\u001b[0;34m]\u001b[0m\u001b[0;34m)\u001b[0m\u001b[0;34m\u001b[0m\u001b[0;34m\u001b[0m\u001b[0m\n\u001b[1;32m     27\u001b[0m \u001b[0;34m\u001b[0m\u001b[0m\n",
            "\u001b[0;31mIndexError\u001b[0m: tuple index out of range"
          ]
        }
      ]
    },
    {
      "cell_type": "markdown",
      "metadata": {
        "id": "rZNC_BQkzwzx",
        "colab_type": "text"
      },
      "source": [
        "# RNN\n"
      ]
    },
    {
      "cell_type": "code",
      "metadata": {
        "id": "PfG4HphGH9sa",
        "colab_type": "code",
        "colab": {}
      },
      "source": [
        " class RNN(nn.Module):    \n",
        "    def __init__(self, vocab, dim, batch_size, h_dim, layers, tag_size, preTrainedWeights):\n",
        "        super(RNN, self).__init__()\n",
        "        \n",
        "        self.layers = layers\n",
        "        self.batch_size = batch_size\n",
        "        self.h_dim = h_dim\n",
        "        self.dim = dim\n",
        "        \n",
        "        self.embedding = nn.Embedding.from_pretrained(preTrainedWeights)\n",
        "        self.gru = nn.GRU(dim, h_dim, self.layers, batch_first=True)\n",
        "        self.fc = nn.Linear(h_dim*MAX_SENT, tag_size)\n",
        "        self.relu = nn.ReLU()\n",
        "        \n",
        "        self.sigmoid = nn.Sigmoid()\n",
        "        \n",
        "        self.fc.weight = nn.init.xavier_normal_(self.fc.weight, gain = 1.0)\n",
        "        #self.embedding.weight = nn.init.xavier_normal_(self.embedding.weight, gain = 1.0)\n",
        "        self.hidden = self.init_hidden()\n",
        "        self._init_weights()\n",
        "\n",
        "    def _init_weights(self):\n",
        "        for name, param in self.named_parameters():\n",
        "            if \"weight_hh\" in name:\n",
        "                nn.init.orthogonal_(param.data)\n",
        "            elif \"weight_ih\" in name:\n",
        "                nn.init.xavier_uniform_(param.data)\n",
        "    \n",
        "    def forward(self, x):\n",
        "        xshape = x.shape\n",
        "        x = self.embedding(x)\n",
        "        #print(x.shape)\n",
        "        x, self.hidden = self.gru(x)\n",
        "        #print(x.shape)\n",
        "        x = x.reshape(x.shape[0], x.shape[1]*x.shape[2]) \n",
        "        #print(x.shape)\n",
        "        #print(x.shape)\n",
        "        x = self.fc(x)\n",
        "        #print(x.shape)\n",
        "        x = self.sigmoid(x)\n",
        "        #x = nn.functional.log_softmax(x, dim = 1)\n",
        "        return x\n",
        "    \n",
        "    def init_hidden(self):\n",
        "        return (torch.zeros(1, 1, self.h_dim),\n",
        "                torch.zeros(1, 1, self.h_dim))\n",
        "        \n",
        "\n",
        "optimizer = torch.optim.Adam(rnn.parameters(), lr=lr_rate)\n",
        "lossList = train(epochs)"
      ],
      "execution_count": 0,
      "outputs": []
    },
    {
      "cell_type": "code",
      "metadata": {
        "id": "vFYpHuJn0PyC",
        "colab_type": "code",
        "colab": {}
      },
      "source": [
        "def filterPreds(preds, labels):\n",
        "    preds = preds[labels > 0]\n",
        "    labels = labels[labels > 0]\n",
        "    \n",
        "    return preds, labels\n",
        "    \n",
        "def train(epochs):    \n",
        "    lossList = []\n",
        "    for e in range(epochs):\n",
        "        l = 0\n",
        "        print(\"epoch: {}\".format(e))\n",
        "        for sent, labels in train_loader:\n",
        "            rnn.zero_grad()\n",
        "            rnn.hidden = rnn.init_hidden()\n",
        "            \n",
        "            preds = rnn(sent)\n",
        "            \n",
        "            #print(preds.shape)\n",
        "            #print(labels.shape)\n",
        "            \n",
        "            #preds, labels = filterPreds(preds, labels)\n",
        "            \n",
        "            loss = criterion(preds, labels.float())\n",
        "            \n",
        "            loss.backward()\n",
        "            optimizer.step()\n",
        "            \n",
        "            l += loss.item()\n",
        "        \n",
        "        lossList.append(l/len(labels))\n",
        "            \n",
        "        if e%5==0:\n",
        "            right = 0\n",
        "            count = 0\n",
        "            for devSent, devLabel in dev_loader:\n",
        "                devOutputs = rnn(devSent)\n",
        "                devPred = (devOutputs > 0.5).reshape(devOutputs.shape[0]).long()\n",
        "                count+= devLabel.size(0)\n",
        "                right+= (devPred == devLabel).sum().item()\n",
        "            accuracy = (right*100)/count\n",
        "            print(\"Iteration: {}. Loss: {}. Accuracy: {}%.\".format(e, loss.item(), accuracy))\n",
        "        \n",
        "    return lossList\n"
      ],
      "execution_count": 0,
      "outputs": []
    },
    {
      "cell_type": "code",
      "metadata": {
        "id": "HcBX7BXgH9se",
        "colab_type": "code",
        "outputId": "67f0f947-b248-41f5-9162-e2f347480371",
        "colab": {}
      },
      "source": [
        "right = 0\n",
        "count = 0\n",
        "for devSent, devLabel in dev_loader:\n",
        "    devOutputs = rnn(devSent)\n",
        "    devPred = (devOutputs > 0.5).reshape(devOutputs.shape[0]).long()\n",
        "    count+= devLabel.size(0)\n",
        "    right+= (devPred == devLabel).sum().item()\n",
        "accuracy = (right*100)/count\n",
        "print(\"Accuracy: {}%.\".format(accuracy))"
      ],
      "execution_count": 0,
      "outputs": [
        {
          "output_type": "stream",
          "text": [
            "Accuracy: 80.26666666666667%.\n"
          ],
          "name": "stdout"
        }
      ]
    },
    {
      "cell_type": "code",
      "metadata": {
        "id": "X_Ei9DZnH9sh",
        "colab_type": "code",
        "outputId": "7dc4dc5a-e3c9-4391-98de-8c3a4d0ed51a",
        "colab": {}
      },
      "source": [
        "right = 0\n",
        "count = 0\n",
        "for devSent, devLabel in test_loader:\n",
        "    devOutputs = rnn(devSent)\n",
        "    devPred = (devOutputs > 0.5).reshape(devOutputs.shape[0]).long()\n",
        "    count+= devLabel.size(0)\n",
        "    right+= (devPred == devLabel).sum().item()\n",
        "accuracy = (right*100)/count\n",
        "print(\"Accuracy: {}%.\".format(accuracy))"
      ],
      "execution_count": 0,
      "outputs": [
        {
          "output_type": "stream",
          "text": [
            "Accuracy: 77.7%.\n"
          ],
          "name": "stdout"
        }
      ]
    },
    {
      "cell_type": "code",
      "metadata": {
        "id": "vKQhBQGKH9sk",
        "colab_type": "code",
        "colab": {}
      },
      "source": [
        "class MLP(nn.Module):    \n",
        "    def __init__(self, vocab, dim, batch_size, h_dim, layers, tag_size, preTrainedWeights):\n",
        "        super(MLP, self).__init__()\n",
        "        \n",
        "        self.layers = layers\n",
        "        self.batch_size = batch_size\n",
        "        self.h_dim = h_dim\n",
        "        self.dim = dim\n",
        "        \n",
        "        self.embedding = nn.Embedding.from_pretrained(preTrainedWeights)\n",
        "        self.fc1 = nn.Linear(dim, h_dim)\n",
        "        self.fc2 = nn.Linear(h_dim*MAX_SENT, tag_size)\n",
        "        self.relu = nn.ReLU()\n",
        "        \n",
        "        self.sigmoid = nn.Sigmoid()\n",
        "        \n",
        "        self.fc1.weight = nn.init.xavier_normal_(self.fc1.weight, gain = 1.0)\n",
        "        self.fc2.weight = nn.init.xavier_normal_(self.fc2.weight, gain = 1.0)\n",
        "        #self.embedding.weight = nn.init.xavier_normal_(self.embedding.weight, gain = 1.0)\n",
        "        #self.hidden = self.init_hidden()\n",
        "        #self._init_weights()\n",
        "\n",
        "    def forward(self, x):\n",
        "        xshape = x.shape\n",
        "        x = self.embedding(x)\n",
        "        #print(x.shape)\n",
        "        x = self.fc1(x)\n",
        "        x = self.relu(x)\n",
        "        #print(x.shape)\n",
        "        x = x.reshape(x.shape[0], x.shape[1]*x.shape[2]) \n",
        "        #print(x.shape)\n",
        "        #print(x.shape)\n",
        "        x = self.fc2(x)\n",
        "        #print(x.shape)\n",
        "        x = self.sigmoid(x)\n",
        "        #x = nn.functional.log_softmax(x, dim = 1)\n",
        "        return x\n",
        "    \n",
        "    \n",
        "h_dim = 5\n",
        "layers = 1\n",
        "tag_size = 1\n",
        "    \n",
        "mlp = MLP(len(vocabToId), dim, batch_size, h_dim, layers, tag_size, weights)  \n",
        "criterion = torch.nn.BCELoss() "
      ],
      "execution_count": 0,
      "outputs": []
    },
    {
      "cell_type": "code",
      "metadata": {
        "id": "BkKStc6sH9sm",
        "colab_type": "code",
        "colab": {}
      },
      "source": [
        "def trainMLP(epochs):    \n",
        "    lossList = []\n",
        "    for e in range(epochs):\n",
        "        l = 0\n",
        "        print(\"epoch: {}\".format(e))\n",
        "        for sent, labels in train_loader:\n",
        "            mlp.zero_grad()\n",
        "            preds = mlp(sent)\n",
        "            \n",
        "            #print(preds.shape)\n",
        "            #print(labels.shape)\n",
        "            \n",
        "            #preds, labels = filterPreds(preds, labels)\n",
        "            \n",
        "            loss = criterion(preds, labels.float())\n",
        "            \n",
        "            loss.backward()\n",
        "            optimizer.step()\n",
        "            \n",
        "            l += loss.item()\n",
        "        \n",
        "        lossList.append(l/len(labels))\n",
        "            \n",
        "        if e%5==0:\n",
        "            right = 0\n",
        "            count = 0\n",
        "            for devSent, devLabel in dev_loader:\n",
        "                devOutputs = mlp(devSent)\n",
        "                devPred = (devOutputs > 0.5).reshape(devOutputs.shape[0]).long()\n",
        "                count+= devLabel.size(0)\n",
        "                right+= (devPred == devLabel).sum().item()\n",
        "            accuracy = (right*100)/count\n",
        "            print(\"Iteration: {}. Loss: {}. Accuracy: {}%.\".format(e, loss.item(), accuracy))\n",
        "        \n",
        "    return lossList\n"
      ],
      "execution_count": 0,
      "outputs": []
    },
    {
      "cell_type": "code",
      "metadata": {
        "id": "YvrzOPN5H9so",
        "colab_type": "code",
        "outputId": "47537003-3086-4495-8c66-8b369249b40e",
        "colab": {}
      },
      "source": [
        "lr_rate = 0.001\n",
        "epochs = 25\n",
        "\n",
        "optimizer = torch.optim.Adam(mlp.parameters(), lr=lr_rate)\n",
        "lossListMLP = trainMLP(epochs)"
      ],
      "execution_count": 0,
      "outputs": [
        {
          "output_type": "stream",
          "text": [
            "epoch: 0\n",
            "Iteration: 0. Loss: 0.6995187401771545. Accuracy: 51.06666666666667%.\n",
            "epoch: 1\n",
            "epoch: 2\n",
            "epoch: 3\n",
            "epoch: 4\n",
            "epoch: 5\n",
            "Iteration: 5. Loss: 0.5408822894096375. Accuracy: 59.733333333333334%.\n",
            "epoch: 6\n",
            "epoch: 7\n",
            "epoch: 8\n",
            "epoch: 9\n",
            "epoch: 10\n",
            "Iteration: 10. Loss: 0.45981308817863464. Accuracy: 65.46666666666667%.\n",
            "epoch: 11\n",
            "epoch: 12\n",
            "epoch: 13\n",
            "epoch: 14\n",
            "epoch: 15\n",
            "Iteration: 15. Loss: 0.3830942213535309. Accuracy: 67.86666666666666%.\n",
            "epoch: 16\n",
            "epoch: 17\n",
            "epoch: 18\n",
            "epoch: 19\n",
            "epoch: 20\n",
            "Iteration: 20. Loss: 0.27639082074165344. Accuracy: 69.73333333333333%.\n",
            "epoch: 21\n",
            "epoch: 22\n",
            "epoch: 23\n",
            "epoch: 24\n"
          ],
          "name": "stdout"
        }
      ]
    },
    {
      "cell_type": "code",
      "metadata": {
        "id": "L_F79qffH9sq",
        "colab_type": "code",
        "outputId": "a47df900-f854-494c-8c6f-041abedcacd5",
        "colab": {}
      },
      "source": [
        "right = 0\n",
        "count = 0\n",
        "for devSent, devLabel in dev_loader:\n",
        "    devOutputs = mlp(devSent)\n",
        "    devPred = (devOutputs > 0.5).reshape(devOutputs.shape[0]).long()\n",
        "    count+= devLabel.size(0)\n",
        "    right+= (devPred == devLabel).sum().item()\n",
        "accuracy = (right*100)/count\n",
        "print(\"Accuracy: {}%.\".format(accuracy))"
      ],
      "execution_count": 0,
      "outputs": [
        {
          "output_type": "stream",
          "text": [
            "Accuracy: 71.06666666666666%.\n"
          ],
          "name": "stdout"
        }
      ]
    },
    {
      "cell_type": "code",
      "metadata": {
        "id": "EbgyGfxOH9st",
        "colab_type": "code",
        "outputId": "b3b10f4d-f4d8-4220-a4f7-f68c0f7b3637",
        "colab": {}
      },
      "source": [
        "right = 0\n",
        "count = 0\n",
        "for devSent, devLabel in test_loader:\n",
        "    devOutputs = mlp(devSent)\n",
        "    devPred = (devOutputs > 0.5).reshape(devOutputs.shape[0]).long()\n",
        "    count+= devLabel.size(0)\n",
        "    right+= (devPred == devLabel).sum().item()\n",
        "accuracy = (right*100)/count\n",
        "print(\"Accuracy: {}%.\".format(accuracy))"
      ],
      "execution_count": 0,
      "outputs": [
        {
          "output_type": "stream",
          "text": [
            "Accuracy: 69.5%.\n"
          ],
          "name": "stdout"
        }
      ]
    },
    {
      "cell_type": "code",
      "metadata": {
        "id": "dkwhqoW5H9sw",
        "colab_type": "code",
        "colab": {}
      },
      "source": [
        ""
      ],
      "execution_count": 0,
      "outputs": []
    }
  ]
}